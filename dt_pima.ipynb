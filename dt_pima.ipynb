{
 "cells": [
  {
   "cell_type": "code",
   "execution_count": 1,
   "source": [
    "import pandas as pd\r\n",
    "import graphviz\r\n",
    "from sklearn.model_selection import train_test_split\r\n",
    "from sklearn.tree import DecisionTreeClassifier\r\n",
    "from sklearn import tree\r\n",
    "from sklearn import metrics"
   ],
   "outputs": [],
   "metadata": {}
  },
  {
   "cell_type": "code",
   "execution_count": 2,
   "source": [
    "# https://www.kaggle.com/uciml/pima-indians-diabetes-database\r\n",
    "pima = pd.read_csv('diabetes.csv')"
   ],
   "outputs": [],
   "metadata": {}
  },
  {
   "cell_type": "code",
   "execution_count": 3,
   "source": [
    "pima"
   ],
   "outputs": [
    {
     "output_type": "execute_result",
     "data": {
      "text/html": [
       "<div>\n",
       "<style scoped>\n",
       "    .dataframe tbody tr th:only-of-type {\n",
       "        vertical-align: middle;\n",
       "    }\n",
       "\n",
       "    .dataframe tbody tr th {\n",
       "        vertical-align: top;\n",
       "    }\n",
       "\n",
       "    .dataframe thead th {\n",
       "        text-align: right;\n",
       "    }\n",
       "</style>\n",
       "<table border=\"1\" class=\"dataframe\">\n",
       "  <thead>\n",
       "    <tr style=\"text-align: right;\">\n",
       "      <th></th>\n",
       "      <th>Pregnancies</th>\n",
       "      <th>Glucose</th>\n",
       "      <th>BloodPressure</th>\n",
       "      <th>SkinThickness</th>\n",
       "      <th>Insulin</th>\n",
       "      <th>BMI</th>\n",
       "      <th>DiabetesPedigreeFunction</th>\n",
       "      <th>Age</th>\n",
       "      <th>Outcome</th>\n",
       "    </tr>\n",
       "  </thead>\n",
       "  <tbody>\n",
       "    <tr>\n",
       "      <th>0</th>\n",
       "      <td>6</td>\n",
       "      <td>148</td>\n",
       "      <td>72</td>\n",
       "      <td>35</td>\n",
       "      <td>0</td>\n",
       "      <td>33.6</td>\n",
       "      <td>0.627</td>\n",
       "      <td>50</td>\n",
       "      <td>1</td>\n",
       "    </tr>\n",
       "    <tr>\n",
       "      <th>1</th>\n",
       "      <td>1</td>\n",
       "      <td>85</td>\n",
       "      <td>66</td>\n",
       "      <td>29</td>\n",
       "      <td>0</td>\n",
       "      <td>26.6</td>\n",
       "      <td>0.351</td>\n",
       "      <td>31</td>\n",
       "      <td>0</td>\n",
       "    </tr>\n",
       "    <tr>\n",
       "      <th>2</th>\n",
       "      <td>8</td>\n",
       "      <td>183</td>\n",
       "      <td>64</td>\n",
       "      <td>0</td>\n",
       "      <td>0</td>\n",
       "      <td>23.3</td>\n",
       "      <td>0.672</td>\n",
       "      <td>32</td>\n",
       "      <td>1</td>\n",
       "    </tr>\n",
       "    <tr>\n",
       "      <th>3</th>\n",
       "      <td>1</td>\n",
       "      <td>89</td>\n",
       "      <td>66</td>\n",
       "      <td>23</td>\n",
       "      <td>94</td>\n",
       "      <td>28.1</td>\n",
       "      <td>0.167</td>\n",
       "      <td>21</td>\n",
       "      <td>0</td>\n",
       "    </tr>\n",
       "    <tr>\n",
       "      <th>4</th>\n",
       "      <td>0</td>\n",
       "      <td>137</td>\n",
       "      <td>40</td>\n",
       "      <td>35</td>\n",
       "      <td>168</td>\n",
       "      <td>43.1</td>\n",
       "      <td>2.288</td>\n",
       "      <td>33</td>\n",
       "      <td>1</td>\n",
       "    </tr>\n",
       "    <tr>\n",
       "      <th>...</th>\n",
       "      <td>...</td>\n",
       "      <td>...</td>\n",
       "      <td>...</td>\n",
       "      <td>...</td>\n",
       "      <td>...</td>\n",
       "      <td>...</td>\n",
       "      <td>...</td>\n",
       "      <td>...</td>\n",
       "      <td>...</td>\n",
       "    </tr>\n",
       "    <tr>\n",
       "      <th>763</th>\n",
       "      <td>10</td>\n",
       "      <td>101</td>\n",
       "      <td>76</td>\n",
       "      <td>48</td>\n",
       "      <td>180</td>\n",
       "      <td>32.9</td>\n",
       "      <td>0.171</td>\n",
       "      <td>63</td>\n",
       "      <td>0</td>\n",
       "    </tr>\n",
       "    <tr>\n",
       "      <th>764</th>\n",
       "      <td>2</td>\n",
       "      <td>122</td>\n",
       "      <td>70</td>\n",
       "      <td>27</td>\n",
       "      <td>0</td>\n",
       "      <td>36.8</td>\n",
       "      <td>0.340</td>\n",
       "      <td>27</td>\n",
       "      <td>0</td>\n",
       "    </tr>\n",
       "    <tr>\n",
       "      <th>765</th>\n",
       "      <td>5</td>\n",
       "      <td>121</td>\n",
       "      <td>72</td>\n",
       "      <td>23</td>\n",
       "      <td>112</td>\n",
       "      <td>26.2</td>\n",
       "      <td>0.245</td>\n",
       "      <td>30</td>\n",
       "      <td>0</td>\n",
       "    </tr>\n",
       "    <tr>\n",
       "      <th>766</th>\n",
       "      <td>1</td>\n",
       "      <td>126</td>\n",
       "      <td>60</td>\n",
       "      <td>0</td>\n",
       "      <td>0</td>\n",
       "      <td>30.1</td>\n",
       "      <td>0.349</td>\n",
       "      <td>47</td>\n",
       "      <td>1</td>\n",
       "    </tr>\n",
       "    <tr>\n",
       "      <th>767</th>\n",
       "      <td>1</td>\n",
       "      <td>93</td>\n",
       "      <td>70</td>\n",
       "      <td>31</td>\n",
       "      <td>0</td>\n",
       "      <td>30.4</td>\n",
       "      <td>0.315</td>\n",
       "      <td>23</td>\n",
       "      <td>0</td>\n",
       "    </tr>\n",
       "  </tbody>\n",
       "</table>\n",
       "<p>768 rows × 9 columns</p>\n",
       "</div>"
      ],
      "text/plain": [
       "     Pregnancies  Glucose  BloodPressure  SkinThickness  Insulin   BMI  \\\n",
       "0              6      148             72             35        0  33.6   \n",
       "1              1       85             66             29        0  26.6   \n",
       "2              8      183             64              0        0  23.3   \n",
       "3              1       89             66             23       94  28.1   \n",
       "4              0      137             40             35      168  43.1   \n",
       "..           ...      ...            ...            ...      ...   ...   \n",
       "763           10      101             76             48      180  32.9   \n",
       "764            2      122             70             27        0  36.8   \n",
       "765            5      121             72             23      112  26.2   \n",
       "766            1      126             60              0        0  30.1   \n",
       "767            1       93             70             31        0  30.4   \n",
       "\n",
       "     DiabetesPedigreeFunction  Age  Outcome  \n",
       "0                       0.627   50        1  \n",
       "1                       0.351   31        0  \n",
       "2                       0.672   32        1  \n",
       "3                       0.167   21        0  \n",
       "4                       2.288   33        1  \n",
       "..                        ...  ...      ...  \n",
       "763                     0.171   63        0  \n",
       "764                     0.340   27        0  \n",
       "765                     0.245   30        0  \n",
       "766                     0.349   47        1  \n",
       "767                     0.315   23        0  \n",
       "\n",
       "[768 rows x 9 columns]"
      ]
     },
     "metadata": {},
     "execution_count": 3
    }
   ],
   "metadata": {}
  },
  {
   "cell_type": "code",
   "execution_count": 4,
   "source": [
    "# split dataset in features and outcome\r\n",
    "features = ['Pregnancies', 'Glucose', 'BloodPressure', 'SkinThickness', 'Insulin', 'BMI', 'DiabetesPedigreeFunction', 'Age']\r\n",
    "\r\n",
    "X = pima[features]\r\n",
    "y = pima.Outcome  # target"
   ],
   "outputs": [],
   "metadata": {}
  },
  {
   "cell_type": "code",
   "execution_count": 5,
   "source": [
    "# Split dataset into Training and Test (70% Training    30% Test)\r\n",
    "X_train, X_test, y_train, y_test = train_test_split(X, y, train_size=0.7)"
   ],
   "outputs": [],
   "metadata": {}
  },
  {
   "cell_type": "code",
   "execution_count": 6,
   "source": [
    "# Creating a Decision Tree\r\n",
    "dt = DecisionTreeClassifier()\r\n",
    "\r\n",
    "# Train the classifier\r\n",
    "dt.fit(X_train, y_train)"
   ],
   "outputs": [
    {
     "output_type": "execute_result",
     "data": {
      "text/plain": [
       "DecisionTreeClassifier()"
      ]
     },
     "metadata": {},
     "execution_count": 6
    }
   ],
   "metadata": {}
  },
  {
   "cell_type": "code",
   "execution_count": 7,
   "source": [
    "# predict values\r\n",
    "y_pred = dt.predict(X_test)"
   ],
   "outputs": [],
   "metadata": {}
  },
  {
   "cell_type": "code",
   "execution_count": 8,
   "source": [
    "# Model Accuracy\r\n",
    "print(f'Accuracy: {metrics.accuracy_score(y_test, y_pred)} ', )"
   ],
   "outputs": [
    {
     "output_type": "stream",
     "name": "stdout",
     "text": [
      "Accuracy: 0.6406926406926406 \n"
     ]
    }
   ],
   "metadata": {}
  },
  {
   "cell_type": "code",
   "execution_count": 9,
   "source": [
    "dot_data = tree.export_graphviz(dt, out_file=None, \r\n",
    "                                feature_names=features,\r\n",
    "                                filled=True)\r\n",
    "\r\n",
    "# Draw graph\r\n",
    "graph = graphviz.Source(dot_data, format=\"png\")\r\n",
    "# graph"
   ],
   "outputs": [],
   "metadata": {}
  },
  {
   "cell_type": "code",
   "execution_count": 10,
   "source": [
    "# Testing with max depth = 4\r\n",
    "dt = DecisionTreeClassifier(max_depth=4)\r\n",
    "\r\n",
    "dt.fit(X_train, y_train)\r\n",
    "\r\n",
    "y_pred = dt.predict(X_test)"
   ],
   "outputs": [],
   "metadata": {}
  },
  {
   "cell_type": "code",
   "execution_count": 11,
   "source": [
    "# Model Accuracy\r\n",
    "print(f'Accuracy: {metrics.accuracy_score(y_test, y_pred)} ', )"
   ],
   "outputs": [
    {
     "output_type": "stream",
     "name": "stdout",
     "text": [
      "Accuracy: 0.7662337662337663 \n"
     ]
    }
   ],
   "metadata": {}
  },
  {
   "cell_type": "code",
   "execution_count": 12,
   "source": [
    "dot_data2 = tree.export_graphviz(dt, out_file=None, \r\n",
    "                                feature_names=features,\r\n",
    "                                class_names=['0', '1'],\r\n",
    "                                filled=True)\r\n",
    "\r\n",
    "# Draw graph\r\n",
    "graph = graphviz.Source(dot_data2, format=\"png\")\r\n",
    "graph"
   ],
   "outputs": [
    {
     "output_type": "execute_result",
     "data": {
      "image/svg+xml": "<?xml version=\"1.0\" encoding=\"UTF-8\" standalone=\"no\"?>\r\n<!DOCTYPE svg PUBLIC \"-//W3C//DTD SVG 1.1//EN\"\r\n \"http://www.w3.org/Graphics/SVG/1.1/DTD/svg11.dtd\">\r\n<!-- Generated by graphviz version 2.38.0 (20140413.2041)\r\n -->\r\n<!-- Title: Tree Pages: 1 -->\r\n<svg width=\"1149pt\" height=\"552pt\"\r\n viewBox=\"0.00 0.00 1149.00 552.00\" xmlns=\"http://www.w3.org/2000/svg\" xmlns:xlink=\"http://www.w3.org/1999/xlink\">\r\n<g id=\"graph0\" class=\"graph\" transform=\"scale(1 1) rotate(0) translate(4 548)\">\r\n<title>Tree</title>\r\n<polygon fill=\"white\" stroke=\"none\" points=\"-4,4 -4,-548 1145,-548 1145,4 -4,4\"/>\r\n<!-- 0 -->\r\n<g id=\"node1\" class=\"node\"><title>0</title>\r\n<polygon fill=\"#f3c3a1\" stroke=\"black\" points=\"829.5,-544 711.5,-544 711.5,-461 829.5,-461 829.5,-544\"/>\r\n<text text-anchor=\"middle\" x=\"770.5\" y=\"-528.8\" font-family=\"Times New Roman,serif\" font-size=\"14.00\">Glucose &lt;= 154.5</text>\r\n<text text-anchor=\"middle\" x=\"770.5\" y=\"-513.8\" font-family=\"Times New Roman,serif\" font-size=\"14.00\">gini = 0.452</text>\r\n<text text-anchor=\"middle\" x=\"770.5\" y=\"-498.8\" font-family=\"Times New Roman,serif\" font-size=\"14.00\">samples = 537</text>\r\n<text text-anchor=\"middle\" x=\"770.5\" y=\"-483.8\" font-family=\"Times New Roman,serif\" font-size=\"14.00\">value = [352, 185]</text>\r\n<text text-anchor=\"middle\" x=\"770.5\" y=\"-468.8\" font-family=\"Times New Roman,serif\" font-size=\"14.00\">class = 0</text>\r\n</g>\r\n<!-- 1 -->\r\n<g id=\"node2\" class=\"node\"><title>1</title>\r\n<polygon fill=\"#edaa7a\" stroke=\"black\" points=\"736.5,-425 618.5,-425 618.5,-342 736.5,-342 736.5,-425\"/>\r\n<text text-anchor=\"middle\" x=\"677.5\" y=\"-409.8\" font-family=\"Times New Roman,serif\" font-size=\"14.00\">Glucose &lt;= 110.5</text>\r\n<text text-anchor=\"middle\" x=\"677.5\" y=\"-394.8\" font-family=\"Times New Roman,serif\" font-size=\"14.00\">gini = 0.371</text>\r\n<text text-anchor=\"middle\" x=\"677.5\" y=\"-379.8\" font-family=\"Times New Roman,serif\" font-size=\"14.00\">samples = 447</text>\r\n<text text-anchor=\"middle\" x=\"677.5\" y=\"-364.8\" font-family=\"Times New Roman,serif\" font-size=\"14.00\">value = [337, 110]</text>\r\n<text text-anchor=\"middle\" x=\"677.5\" y=\"-349.8\" font-family=\"Times New Roman,serif\" font-size=\"14.00\">class = 0</text>\r\n</g>\r\n<!-- 0&#45;&gt;1 -->\r\n<g id=\"edge1\" class=\"edge\"><title>0&#45;&gt;1</title>\r\n<path fill=\"none\" stroke=\"black\" d=\"M738.234,-460.907C731.093,-451.923 723.456,-442.315 716.091,-433.05\"/>\r\n<polygon fill=\"black\" stroke=\"black\" points=\"718.671,-430.671 709.709,-425.021 713.191,-435.027 718.671,-430.671\"/>\r\n<text text-anchor=\"middle\" x=\"706.87\" y=\"-446.159\" font-family=\"Times New Roman,serif\" font-size=\"14.00\">True</text>\r\n</g>\r\n<!-- 16 -->\r\n<g id=\"node17\" class=\"node\"><title>16</title>\r\n<polygon fill=\"#61b1ea\" stroke=\"black\" points=\"915.5,-425 811.5,-425 811.5,-342 915.5,-342 915.5,-425\"/>\r\n<text text-anchor=\"middle\" x=\"863.5\" y=\"-409.8\" font-family=\"Times New Roman,serif\" font-size=\"14.00\">Age &lt;= 62.5</text>\r\n<text text-anchor=\"middle\" x=\"863.5\" y=\"-394.8\" font-family=\"Times New Roman,serif\" font-size=\"14.00\">gini = 0.278</text>\r\n<text text-anchor=\"middle\" x=\"863.5\" y=\"-379.8\" font-family=\"Times New Roman,serif\" font-size=\"14.00\">samples = 90</text>\r\n<text text-anchor=\"middle\" x=\"863.5\" y=\"-364.8\" font-family=\"Times New Roman,serif\" font-size=\"14.00\">value = [15, 75]</text>\r\n<text text-anchor=\"middle\" x=\"863.5\" y=\"-349.8\" font-family=\"Times New Roman,serif\" font-size=\"14.00\">class = 1</text>\r\n</g>\r\n<!-- 0&#45;&gt;16 -->\r\n<g id=\"edge16\" class=\"edge\"><title>0&#45;&gt;16</title>\r\n<path fill=\"none\" stroke=\"black\" d=\"M802.766,-460.907C809.907,-451.923 817.544,-442.315 824.909,-433.05\"/>\r\n<polygon fill=\"black\" stroke=\"black\" points=\"827.809,-435.027 831.291,-425.021 822.329,-430.671 827.809,-435.027\"/>\r\n<text text-anchor=\"middle\" x=\"834.13\" y=\"-446.159\" font-family=\"Times New Roman,serif\" font-size=\"14.00\">False</text>\r\n</g>\r\n<!-- 2 -->\r\n<g id=\"node3\" class=\"node\"><title>2</title>\r\n<polygon fill=\"#e99355\" stroke=\"black\" points=\"441,-306 316,-306 316,-223 441,-223 441,-306\"/>\r\n<text text-anchor=\"middle\" x=\"378.5\" y=\"-290.8\" font-family=\"Times New Roman,serif\" font-size=\"14.00\">Pregnancies &lt;= 6.5</text>\r\n<text text-anchor=\"middle\" x=\"378.5\" y=\"-275.8\" font-family=\"Times New Roman,serif\" font-size=\"14.00\">gini = 0.214</text>\r\n<text text-anchor=\"middle\" x=\"378.5\" y=\"-260.8\" font-family=\"Times New Roman,serif\" font-size=\"14.00\">samples = 221</text>\r\n<text text-anchor=\"middle\" x=\"378.5\" y=\"-245.8\" font-family=\"Times New Roman,serif\" font-size=\"14.00\">value = [194, 27]</text>\r\n<text text-anchor=\"middle\" x=\"378.5\" y=\"-230.8\" font-family=\"Times New Roman,serif\" font-size=\"14.00\">class = 0</text>\r\n</g>\r\n<!-- 1&#45;&gt;2 -->\r\n<g id=\"edge2\" class=\"edge\"><title>1&#45;&gt;2</title>\r\n<path fill=\"none\" stroke=\"black\" d=\"M618.427,-359.385C570.201,-340.514 501.866,-313.774 450.452,-293.655\"/>\r\n<polygon fill=\"black\" stroke=\"black\" points=\"451.646,-290.364 441.058,-289.979 449.095,-296.883 451.646,-290.364\"/>\r\n</g>\r\n<!-- 9 -->\r\n<g id=\"node10\" class=\"node\"><title>9</title>\r\n<polygon fill=\"#f4caac\" stroke=\"black\" points=\"733,-306 622,-306 622,-223 733,-223 733,-306\"/>\r\n<text text-anchor=\"middle\" x=\"677.5\" y=\"-290.8\" font-family=\"Times New Roman,serif\" font-size=\"14.00\">BMI &lt;= 26.35</text>\r\n<text text-anchor=\"middle\" x=\"677.5\" y=\"-275.8\" font-family=\"Times New Roman,serif\" font-size=\"14.00\">gini = 0.465</text>\r\n<text text-anchor=\"middle\" x=\"677.5\" y=\"-260.8\" font-family=\"Times New Roman,serif\" font-size=\"14.00\">samples = 226</text>\r\n<text text-anchor=\"middle\" x=\"677.5\" y=\"-245.8\" font-family=\"Times New Roman,serif\" font-size=\"14.00\">value = [143, 83]</text>\r\n<text text-anchor=\"middle\" x=\"677.5\" y=\"-230.8\" font-family=\"Times New Roman,serif\" font-size=\"14.00\">class = 0</text>\r\n</g>\r\n<!-- 1&#45;&gt;9 -->\r\n<g id=\"edge9\" class=\"edge\"><title>1&#45;&gt;9</title>\r\n<path fill=\"none\" stroke=\"black\" d=\"M677.5,-341.907C677.5,-333.649 677.5,-324.864 677.5,-316.302\"/>\r\n<polygon fill=\"black\" stroke=\"black\" points=\"681,-316.021 677.5,-306.021 674,-316.021 681,-316.021\"/>\r\n</g>\r\n<!-- 3 -->\r\n<g id=\"node4\" class=\"node\"><title>3</title>\r\n<polygon fill=\"#e78c4a\" stroke=\"black\" points=\"230,-187 119,-187 119,-104 230,-104 230,-187\"/>\r\n<text text-anchor=\"middle\" x=\"174.5\" y=\"-171.8\" font-family=\"Times New Roman,serif\" font-size=\"14.00\">BMI &lt;= 45.4</text>\r\n<text text-anchor=\"middle\" x=\"174.5\" y=\"-156.8\" font-family=\"Times New Roman,serif\" font-size=\"14.00\">gini = 0.149</text>\r\n<text text-anchor=\"middle\" x=\"174.5\" y=\"-141.8\" font-family=\"Times New Roman,serif\" font-size=\"14.00\">samples = 185</text>\r\n<text text-anchor=\"middle\" x=\"174.5\" y=\"-126.8\" font-family=\"Times New Roman,serif\" font-size=\"14.00\">value = [170, 15]</text>\r\n<text text-anchor=\"middle\" x=\"174.5\" y=\"-111.8\" font-family=\"Times New Roman,serif\" font-size=\"14.00\">class = 0</text>\r\n</g>\r\n<!-- 2&#45;&gt;3 -->\r\n<g id=\"edge3\" class=\"edge\"><title>2&#45;&gt;3</title>\r\n<path fill=\"none\" stroke=\"black\" d=\"M315.907,-227.601C291.498,-213.602 263.531,-197.562 238.947,-183.462\"/>\r\n<polygon fill=\"black\" stroke=\"black\" points=\"240.471,-180.302 230.055,-178.363 236.989,-186.374 240.471,-180.302\"/>\r\n</g>\r\n<!-- 6 -->\r\n<g id=\"node7\" class=\"node\"><title>6</title>\r\n<polygon fill=\"#f2c09c\" stroke=\"black\" points=\"487,-187 270,-187 270,-104 487,-104 487,-187\"/>\r\n<text text-anchor=\"middle\" x=\"378.5\" y=\"-171.8\" font-family=\"Times New Roman,serif\" font-size=\"14.00\">DiabetesPedigreeFunction &lt;= 0.631</text>\r\n<text text-anchor=\"middle\" x=\"378.5\" y=\"-156.8\" font-family=\"Times New Roman,serif\" font-size=\"14.00\">gini = 0.444</text>\r\n<text text-anchor=\"middle\" x=\"378.5\" y=\"-141.8\" font-family=\"Times New Roman,serif\" font-size=\"14.00\">samples = 36</text>\r\n<text text-anchor=\"middle\" x=\"378.5\" y=\"-126.8\" font-family=\"Times New Roman,serif\" font-size=\"14.00\">value = [24, 12]</text>\r\n<text text-anchor=\"middle\" x=\"378.5\" y=\"-111.8\" font-family=\"Times New Roman,serif\" font-size=\"14.00\">class = 0</text>\r\n</g>\r\n<!-- 2&#45;&gt;6 -->\r\n<g id=\"edge6\" class=\"edge\"><title>2&#45;&gt;6</title>\r\n<path fill=\"none\" stroke=\"black\" d=\"M378.5,-222.907C378.5,-214.649 378.5,-205.864 378.5,-197.302\"/>\r\n<polygon fill=\"black\" stroke=\"black\" points=\"382,-197.021 378.5,-187.021 375,-197.021 382,-197.021\"/>\r\n</g>\r\n<!-- 4 -->\r\n<g id=\"node5\" class=\"node\"><title>4</title>\r\n<polygon fill=\"#e78b48\" stroke=\"black\" points=\"111,-68 0,-68 0,-0 111,-0 111,-68\"/>\r\n<text text-anchor=\"middle\" x=\"55.5\" y=\"-52.8\" font-family=\"Times New Roman,serif\" font-size=\"14.00\">gini = 0.133</text>\r\n<text text-anchor=\"middle\" x=\"55.5\" y=\"-37.8\" font-family=\"Times New Roman,serif\" font-size=\"14.00\">samples = 182</text>\r\n<text text-anchor=\"middle\" x=\"55.5\" y=\"-22.8\" font-family=\"Times New Roman,serif\" font-size=\"14.00\">value = [169, 13]</text>\r\n<text text-anchor=\"middle\" x=\"55.5\" y=\"-7.8\" font-family=\"Times New Roman,serif\" font-size=\"14.00\">class = 0</text>\r\n</g>\r\n<!-- 3&#45;&gt;4 -->\r\n<g id=\"edge4\" class=\"edge\"><title>3&#45;&gt;4</title>\r\n<path fill=\"none\" stroke=\"black\" d=\"M130.189,-103.726C120.078,-94.423 109.341,-84.5428 99.2541,-75.2612\"/>\r\n<polygon fill=\"black\" stroke=\"black\" points=\"101.417,-72.4953 91.6886,-68.2996 96.6774,-77.6464 101.417,-72.4953\"/>\r\n</g>\r\n<!-- 5 -->\r\n<g id=\"node6\" class=\"node\"><title>5</title>\r\n<polygon fill=\"#9ccef2\" stroke=\"black\" points=\"220,-68 129,-68 129,-0 220,-0 220,-68\"/>\r\n<text text-anchor=\"middle\" x=\"174.5\" y=\"-52.8\" font-family=\"Times New Roman,serif\" font-size=\"14.00\">gini = 0.444</text>\r\n<text text-anchor=\"middle\" x=\"174.5\" y=\"-37.8\" font-family=\"Times New Roman,serif\" font-size=\"14.00\">samples = 3</text>\r\n<text text-anchor=\"middle\" x=\"174.5\" y=\"-22.8\" font-family=\"Times New Roman,serif\" font-size=\"14.00\">value = [1, 2]</text>\r\n<text text-anchor=\"middle\" x=\"174.5\" y=\"-7.8\" font-family=\"Times New Roman,serif\" font-size=\"14.00\">class = 1</text>\r\n</g>\r\n<!-- 3&#45;&gt;5 -->\r\n<g id=\"edge5\" class=\"edge\"><title>3&#45;&gt;5</title>\r\n<path fill=\"none\" stroke=\"black\" d=\"M174.5,-103.726C174.5,-95.5175 174.5,-86.8595 174.5,-78.56\"/>\r\n<polygon fill=\"black\" stroke=\"black\" points=\"178,-78.2996 174.5,-68.2996 171,-78.2996 178,-78.2996\"/>\r\n</g>\r\n<!-- 7 -->\r\n<g id=\"node8\" class=\"node\"><title>7</title>\r\n<polygon fill=\"#eca26d\" stroke=\"black\" points=\"336.5,-68 238.5,-68 238.5,-0 336.5,-0 336.5,-68\"/>\r\n<text text-anchor=\"middle\" x=\"287.5\" y=\"-52.8\" font-family=\"Times New Roman,serif\" font-size=\"14.00\">gini = 0.328</text>\r\n<text text-anchor=\"middle\" x=\"287.5\" y=\"-37.8\" font-family=\"Times New Roman,serif\" font-size=\"14.00\">samples = 29</text>\r\n<text text-anchor=\"middle\" x=\"287.5\" y=\"-22.8\" font-family=\"Times New Roman,serif\" font-size=\"14.00\">value = [23, 6]</text>\r\n<text text-anchor=\"middle\" x=\"287.5\" y=\"-7.8\" font-family=\"Times New Roman,serif\" font-size=\"14.00\">class = 0</text>\r\n</g>\r\n<!-- 6&#45;&gt;7 -->\r\n<g id=\"edge7\" class=\"edge\"><title>6&#45;&gt;7</title>\r\n<path fill=\"none\" stroke=\"black\" d=\"M344.615,-103.726C337.111,-94.6966 329.155,-85.1235 321.641,-76.0816\"/>\r\n<polygon fill=\"black\" stroke=\"black\" points=\"324.257,-73.7534 315.174,-68.2996 318.873,-78.2275 324.257,-73.7534\"/>\r\n</g>\r\n<!-- 8 -->\r\n<g id=\"node9\" class=\"node\"><title>8</title>\r\n<polygon fill=\"#5aade9\" stroke=\"black\" points=\"446,-68 355,-68 355,-0 446,-0 446,-68\"/>\r\n<text text-anchor=\"middle\" x=\"400.5\" y=\"-52.8\" font-family=\"Times New Roman,serif\" font-size=\"14.00\">gini = 0.245</text>\r\n<text text-anchor=\"middle\" x=\"400.5\" y=\"-37.8\" font-family=\"Times New Roman,serif\" font-size=\"14.00\">samples = 7</text>\r\n<text text-anchor=\"middle\" x=\"400.5\" y=\"-22.8\" font-family=\"Times New Roman,serif\" font-size=\"14.00\">value = [1, 6]</text>\r\n<text text-anchor=\"middle\" x=\"400.5\" y=\"-7.8\" font-family=\"Times New Roman,serif\" font-size=\"14.00\">class = 1</text>\r\n</g>\r\n<!-- 6&#45;&gt;8 -->\r\n<g id=\"edge8\" class=\"edge\"><title>6&#45;&gt;8</title>\r\n<path fill=\"none\" stroke=\"black\" d=\"M386.692,-103.726C388.36,-95.4263 390.119,-86.6671 391.804,-78.2834\"/>\r\n<polygon fill=\"black\" stroke=\"black\" points=\"395.271,-78.7931 393.81,-68.2996 388.408,-77.4142 395.271,-78.7931\"/>\r\n</g>\r\n<!-- 10 -->\r\n<g id=\"node11\" class=\"node\"><title>10</title>\r\n<polygon fill=\"#e88f4f\" stroke=\"black\" points=\"668.5,-187 570.5,-187 570.5,-104 668.5,-104 668.5,-187\"/>\r\n<text text-anchor=\"middle\" x=\"619.5\" y=\"-171.8\" font-family=\"Times New Roman,serif\" font-size=\"14.00\">BMI &lt;= 9.8</text>\r\n<text text-anchor=\"middle\" x=\"619.5\" y=\"-156.8\" font-family=\"Times New Roman,serif\" font-size=\"14.00\">gini = 0.18</text>\r\n<text text-anchor=\"middle\" x=\"619.5\" y=\"-141.8\" font-family=\"Times New Roman,serif\" font-size=\"14.00\">samples = 40</text>\r\n<text text-anchor=\"middle\" x=\"619.5\" y=\"-126.8\" font-family=\"Times New Roman,serif\" font-size=\"14.00\">value = [36, 4]</text>\r\n<text text-anchor=\"middle\" x=\"619.5\" y=\"-111.8\" font-family=\"Times New Roman,serif\" font-size=\"14.00\">class = 0</text>\r\n</g>\r\n<!-- 9&#45;&gt;10 -->\r\n<g id=\"edge10\" class=\"edge\"><title>9&#45;&gt;10</title>\r\n<path fill=\"none\" stroke=\"black\" d=\"M657.377,-222.907C653.103,-214.286 648.545,-205.09 644.125,-196.175\"/>\r\n<polygon fill=\"black\" stroke=\"black\" points=\"647.165,-194.426 639.587,-187.021 640.893,-197.535 647.165,-194.426\"/>\r\n</g>\r\n<!-- 13 -->\r\n<g id=\"node14\" class=\"node\"><title>13</title>\r\n<polygon fill=\"#f8decb\" stroke=\"black\" points=\"798,-187 687,-187 687,-104 798,-104 798,-187\"/>\r\n<text text-anchor=\"middle\" x=\"742.5\" y=\"-171.8\" font-family=\"Times New Roman,serif\" font-size=\"14.00\">Age &lt;= 28.5</text>\r\n<text text-anchor=\"middle\" x=\"742.5\" y=\"-156.8\" font-family=\"Times New Roman,serif\" font-size=\"14.00\">gini = 0.489</text>\r\n<text text-anchor=\"middle\" x=\"742.5\" y=\"-141.8\" font-family=\"Times New Roman,serif\" font-size=\"14.00\">samples = 186</text>\r\n<text text-anchor=\"middle\" x=\"742.5\" y=\"-126.8\" font-family=\"Times New Roman,serif\" font-size=\"14.00\">value = [107, 79]</text>\r\n<text text-anchor=\"middle\" x=\"742.5\" y=\"-111.8\" font-family=\"Times New Roman,serif\" font-size=\"14.00\">class = 0</text>\r\n</g>\r\n<!-- 9&#45;&gt;13 -->\r\n<g id=\"edge13\" class=\"edge\"><title>9&#45;&gt;13</title>\r\n<path fill=\"none\" stroke=\"black\" d=\"M700.051,-222.907C704.891,-214.195 710.057,-204.897 715.059,-195.893\"/>\r\n<polygon fill=\"black\" stroke=\"black\" points=\"718.192,-197.462 719.988,-187.021 712.072,-194.063 718.192,-197.462\"/>\r\n</g>\r\n<!-- 11 -->\r\n<g id=\"node12\" class=\"node\"><title>11</title>\r\n<polygon fill=\"#ffffff\" stroke=\"black\" points=\"555,-68 464,-68 464,-0 555,-0 555,-68\"/>\r\n<text text-anchor=\"middle\" x=\"509.5\" y=\"-52.8\" font-family=\"Times New Roman,serif\" font-size=\"14.00\">gini = 0.5</text>\r\n<text text-anchor=\"middle\" x=\"509.5\" y=\"-37.8\" font-family=\"Times New Roman,serif\" font-size=\"14.00\">samples = 4</text>\r\n<text text-anchor=\"middle\" x=\"509.5\" y=\"-22.8\" font-family=\"Times New Roman,serif\" font-size=\"14.00\">value = [2, 2]</text>\r\n<text text-anchor=\"middle\" x=\"509.5\" y=\"-7.8\" font-family=\"Times New Roman,serif\" font-size=\"14.00\">class = 0</text>\r\n</g>\r\n<!-- 10&#45;&gt;11 -->\r\n<g id=\"edge11\" class=\"edge\"><title>10&#45;&gt;11</title>\r\n<path fill=\"none\" stroke=\"black\" d=\"M578.54,-103.726C569.286,-94.5142 559.464,-84.7364 550.219,-75.5343\"/>\r\n<polygon fill=\"black\" stroke=\"black\" points=\"552.508,-72.8741 542.952,-68.2996 547.57,-77.8351 552.508,-72.8741\"/>\r\n</g>\r\n<!-- 12 -->\r\n<g id=\"node13\" class=\"node\"><title>12</title>\r\n<polygon fill=\"#e78845\" stroke=\"black\" points=\"671.5,-68 573.5,-68 573.5,-0 671.5,-0 671.5,-68\"/>\r\n<text text-anchor=\"middle\" x=\"622.5\" y=\"-52.8\" font-family=\"Times New Roman,serif\" font-size=\"14.00\">gini = 0.105</text>\r\n<text text-anchor=\"middle\" x=\"622.5\" y=\"-37.8\" font-family=\"Times New Roman,serif\" font-size=\"14.00\">samples = 36</text>\r\n<text text-anchor=\"middle\" x=\"622.5\" y=\"-22.8\" font-family=\"Times New Roman,serif\" font-size=\"14.00\">value = [34, 2]</text>\r\n<text text-anchor=\"middle\" x=\"622.5\" y=\"-7.8\" font-family=\"Times New Roman,serif\" font-size=\"14.00\">class = 0</text>\r\n</g>\r\n<!-- 10&#45;&gt;12 -->\r\n<g id=\"edge12\" class=\"edge\"><title>10&#45;&gt;12</title>\r\n<path fill=\"none\" stroke=\"black\" d=\"M620.617,-103.726C620.842,-95.5175 621.079,-86.8595 621.307,-78.56\"/>\r\n<polygon fill=\"black\" stroke=\"black\" points=\"624.812,-78.3917 621.588,-68.2996 617.815,-78.2 624.812,-78.3917\"/>\r\n</g>\r\n<!-- 14 -->\r\n<g id=\"node15\" class=\"node\"><title>14</title>\r\n<polygon fill=\"#efb285\" stroke=\"black\" points=\"793.5,-68 689.5,-68 689.5,-0 793.5,-0 793.5,-68\"/>\r\n<text text-anchor=\"middle\" x=\"741.5\" y=\"-52.8\" font-family=\"Times New Roman,serif\" font-size=\"14.00\">gini = 0.402</text>\r\n<text text-anchor=\"middle\" x=\"741.5\" y=\"-37.8\" font-family=\"Times New Roman,serif\" font-size=\"14.00\">samples = 79</text>\r\n<text text-anchor=\"middle\" x=\"741.5\" y=\"-22.8\" font-family=\"Times New Roman,serif\" font-size=\"14.00\">value = [57, 22]</text>\r\n<text text-anchor=\"middle\" x=\"741.5\" y=\"-7.8\" font-family=\"Times New Roman,serif\" font-size=\"14.00\">class = 0</text>\r\n</g>\r\n<!-- 13&#45;&gt;14 -->\r\n<g id=\"edge14\" class=\"edge\"><title>13&#45;&gt;14</title>\r\n<path fill=\"none\" stroke=\"black\" d=\"M742.128,-103.726C742.053,-95.5175 741.974,-86.8595 741.898,-78.56\"/>\r\n<polygon fill=\"black\" stroke=\"black\" points=\"745.395,-78.2672 741.804,-68.2996 738.396,-78.3312 745.395,-78.2672\"/>\r\n</g>\r\n<!-- 15 -->\r\n<g id=\"node16\" class=\"node\"><title>15</title>\r\n<polygon fill=\"#e7f3fc\" stroke=\"black\" points=\"915.5,-68 811.5,-68 811.5,-0 915.5,-0 915.5,-68\"/>\r\n<text text-anchor=\"middle\" x=\"863.5\" y=\"-52.8\" font-family=\"Times New Roman,serif\" font-size=\"14.00\">gini = 0.498</text>\r\n<text text-anchor=\"middle\" x=\"863.5\" y=\"-37.8\" font-family=\"Times New Roman,serif\" font-size=\"14.00\">samples = 107</text>\r\n<text text-anchor=\"middle\" x=\"863.5\" y=\"-22.8\" font-family=\"Times New Roman,serif\" font-size=\"14.00\">value = [50, 57]</text>\r\n<text text-anchor=\"middle\" x=\"863.5\" y=\"-7.8\" font-family=\"Times New Roman,serif\" font-size=\"14.00\">class = 1</text>\r\n</g>\r\n<!-- 13&#45;&gt;15 -->\r\n<g id=\"edge15\" class=\"edge\"><title>13&#45;&gt;15</title>\r\n<path fill=\"none\" stroke=\"black\" d=\"M787.556,-103.726C797.836,-94.423 808.754,-84.5428 819.011,-75.2612\"/>\r\n<polygon fill=\"black\" stroke=\"black\" points=\"821.637,-77.6047 826.703,-68.2996 816.94,-72.4144 821.637,-77.6047\"/>\r\n</g>\r\n<!-- 17 -->\r\n<g id=\"node18\" class=\"node\"><title>17</title>\r\n<polygon fill=\"#59ade9\" stroke=\"black\" points=\"915.5,-306 811.5,-306 811.5,-223 915.5,-223 915.5,-306\"/>\r\n<text text-anchor=\"middle\" x=\"863.5\" y=\"-290.8\" font-family=\"Times New Roman,serif\" font-size=\"14.00\">BMI &lt;= 23.15</text>\r\n<text text-anchor=\"middle\" x=\"863.5\" y=\"-275.8\" font-family=\"Times New Roman,serif\" font-size=\"14.00\">gini = 0.238</text>\r\n<text text-anchor=\"middle\" x=\"863.5\" y=\"-260.8\" font-family=\"Times New Roman,serif\" font-size=\"14.00\">samples = 87</text>\r\n<text text-anchor=\"middle\" x=\"863.5\" y=\"-245.8\" font-family=\"Times New Roman,serif\" font-size=\"14.00\">value = [12, 75]</text>\r\n<text text-anchor=\"middle\" x=\"863.5\" y=\"-230.8\" font-family=\"Times New Roman,serif\" font-size=\"14.00\">class = 1</text>\r\n</g>\r\n<!-- 16&#45;&gt;17 -->\r\n<g id=\"edge17\" class=\"edge\"><title>16&#45;&gt;17</title>\r\n<path fill=\"none\" stroke=\"black\" d=\"M863.5,-341.907C863.5,-333.649 863.5,-324.864 863.5,-316.302\"/>\r\n<polygon fill=\"black\" stroke=\"black\" points=\"867,-316.021 863.5,-306.021 860,-316.021 867,-316.021\"/>\r\n</g>\r\n<!-- 22 -->\r\n<g id=\"node23\" class=\"node\"><title>22</title>\r\n<polygon fill=\"#e58139\" stroke=\"black\" points=\"1025,-298.5 934,-298.5 934,-230.5 1025,-230.5 1025,-298.5\"/>\r\n<text text-anchor=\"middle\" x=\"979.5\" y=\"-283.3\" font-family=\"Times New Roman,serif\" font-size=\"14.00\">gini = 0.0</text>\r\n<text text-anchor=\"middle\" x=\"979.5\" y=\"-268.3\" font-family=\"Times New Roman,serif\" font-size=\"14.00\">samples = 3</text>\r\n<text text-anchor=\"middle\" x=\"979.5\" y=\"-253.3\" font-family=\"Times New Roman,serif\" font-size=\"14.00\">value = [3, 0]</text>\r\n<text text-anchor=\"middle\" x=\"979.5\" y=\"-238.3\" font-family=\"Times New Roman,serif\" font-size=\"14.00\">class = 0</text>\r\n</g>\r\n<!-- 16&#45;&gt;22 -->\r\n<g id=\"edge22\" class=\"edge\"><title>16&#45;&gt;22</title>\r\n<path fill=\"none\" stroke=\"black\" d=\"M903.746,-341.907C915.342,-330.211 927.987,-317.457 939.565,-305.78\"/>\r\n<polygon fill=\"black\" stroke=\"black\" points=\"942.061,-308.233 946.617,-298.667 937.09,-303.304 942.061,-308.233\"/>\r\n</g>\r\n<!-- 18 -->\r\n<g id=\"node19\" class=\"node\"><title>18</title>\r\n<polygon fill=\"#e58139\" stroke=\"black\" points=\"909,-179.5 818,-179.5 818,-111.5 909,-111.5 909,-179.5\"/>\r\n<text text-anchor=\"middle\" x=\"863.5\" y=\"-164.3\" font-family=\"Times New Roman,serif\" font-size=\"14.00\">gini = 0.0</text>\r\n<text text-anchor=\"middle\" x=\"863.5\" y=\"-149.3\" font-family=\"Times New Roman,serif\" font-size=\"14.00\">samples = 1</text>\r\n<text text-anchor=\"middle\" x=\"863.5\" y=\"-134.3\" font-family=\"Times New Roman,serif\" font-size=\"14.00\">value = [1, 0]</text>\r\n<text text-anchor=\"middle\" x=\"863.5\" y=\"-119.3\" font-family=\"Times New Roman,serif\" font-size=\"14.00\">class = 0</text>\r\n</g>\r\n<!-- 17&#45;&gt;18 -->\r\n<g id=\"edge18\" class=\"edge\"><title>17&#45;&gt;18</title>\r\n<path fill=\"none\" stroke=\"black\" d=\"M863.5,-222.907C863.5,-212.204 863.5,-200.615 863.5,-189.776\"/>\r\n<polygon fill=\"black\" stroke=\"black\" points=\"867,-189.667 863.5,-179.667 860,-189.667 867,-189.667\"/>\r\n</g>\r\n<!-- 19 -->\r\n<g id=\"node20\" class=\"node\"><title>19</title>\r\n<polygon fill=\"#56abe9\" stroke=\"black\" points=\"1036.5,-187 928.5,-187 928.5,-104 1036.5,-104 1036.5,-187\"/>\r\n<text text-anchor=\"middle\" x=\"982.5\" y=\"-171.8\" font-family=\"Times New Roman,serif\" font-size=\"14.00\">Insulin &lt;= 351.5</text>\r\n<text text-anchor=\"middle\" x=\"982.5\" y=\"-156.8\" font-family=\"Times New Roman,serif\" font-size=\"14.00\">gini = 0.223</text>\r\n<text text-anchor=\"middle\" x=\"982.5\" y=\"-141.8\" font-family=\"Times New Roman,serif\" font-size=\"14.00\">samples = 86</text>\r\n<text text-anchor=\"middle\" x=\"982.5\" y=\"-126.8\" font-family=\"Times New Roman,serif\" font-size=\"14.00\">value = [11, 75]</text>\r\n<text text-anchor=\"middle\" x=\"982.5\" y=\"-111.8\" font-family=\"Times New Roman,serif\" font-size=\"14.00\">class = 1</text>\r\n</g>\r\n<!-- 17&#45;&gt;19 -->\r\n<g id=\"edge19\" class=\"edge\"><title>17&#45;&gt;19</title>\r\n<path fill=\"none\" stroke=\"black\" d=\"M904.786,-222.907C914.201,-213.651 924.289,-203.732 933.976,-194.209\"/>\r\n<polygon fill=\"black\" stroke=\"black\" points=\"936.61,-196.527 941.287,-187.021 931.702,-191.536 936.61,-196.527\"/>\r\n</g>\r\n<!-- 20 -->\r\n<g id=\"node21\" class=\"node\"><title>20</title>\r\n<polygon fill=\"#4ea7e8\" stroke=\"black\" points=\"1031.5,-68 933.5,-68 933.5,-0 1031.5,-0 1031.5,-68\"/>\r\n<text text-anchor=\"middle\" x=\"982.5\" y=\"-52.8\" font-family=\"Times New Roman,serif\" font-size=\"14.00\">gini = 0.171</text>\r\n<text text-anchor=\"middle\" x=\"982.5\" y=\"-37.8\" font-family=\"Times New Roman,serif\" font-size=\"14.00\">samples = 74</text>\r\n<text text-anchor=\"middle\" x=\"982.5\" y=\"-22.8\" font-family=\"Times New Roman,serif\" font-size=\"14.00\">value = [7, 67]</text>\r\n<text text-anchor=\"middle\" x=\"982.5\" y=\"-7.8\" font-family=\"Times New Roman,serif\" font-size=\"14.00\">class = 1</text>\r\n</g>\r\n<!-- 19&#45;&gt;20 -->\r\n<g id=\"edge20\" class=\"edge\"><title>19&#45;&gt;20</title>\r\n<path fill=\"none\" stroke=\"black\" d=\"M982.5,-103.726C982.5,-95.5175 982.5,-86.8595 982.5,-78.56\"/>\r\n<polygon fill=\"black\" stroke=\"black\" points=\"986,-78.2996 982.5,-68.2996 979,-78.2996 986,-78.2996\"/>\r\n</g>\r\n<!-- 21 -->\r\n<g id=\"node22\" class=\"node\"><title>21</title>\r\n<polygon fill=\"#9ccef2\" stroke=\"black\" points=\"1141,-68 1050,-68 1050,-0 1141,-0 1141,-68\"/>\r\n<text text-anchor=\"middle\" x=\"1095.5\" y=\"-52.8\" font-family=\"Times New Roman,serif\" font-size=\"14.00\">gini = 0.444</text>\r\n<text text-anchor=\"middle\" x=\"1095.5\" y=\"-37.8\" font-family=\"Times New Roman,serif\" font-size=\"14.00\">samples = 12</text>\r\n<text text-anchor=\"middle\" x=\"1095.5\" y=\"-22.8\" font-family=\"Times New Roman,serif\" font-size=\"14.00\">value = [4, 8]</text>\r\n<text text-anchor=\"middle\" x=\"1095.5\" y=\"-7.8\" font-family=\"Times New Roman,serif\" font-size=\"14.00\">class = 1</text>\r\n</g>\r\n<!-- 19&#45;&gt;21 -->\r\n<g id=\"edge21\" class=\"edge\"><title>19&#45;&gt;21</title>\r\n<path fill=\"none\" stroke=\"black\" d=\"M1024.58,-103.726C1034.18,-94.423 1044.37,-84.5428 1053.95,-75.2612\"/>\r\n<polygon fill=\"black\" stroke=\"black\" points=\"1056.39,-77.7721 1061.14,-68.2996 1051.52,-72.7451 1056.39,-77.7721\"/>\r\n</g>\r\n</g>\r\n</svg>\r\n",
      "text/plain": [
       "<graphviz.files.Source at 0x1fd35fc6cd0>"
      ]
     },
     "metadata": {},
     "execution_count": 12
    }
   ],
   "metadata": {}
  }
 ],
 "metadata": {
  "orig_nbformat": 4,
  "language_info": {
   "name": "python",
   "version": "3.8.11",
   "mimetype": "text/x-python",
   "codemirror_mode": {
    "name": "ipython",
    "version": 3
   },
   "pygments_lexer": "ipython3",
   "nbconvert_exporter": "python",
   "file_extension": ".py"
  },
  "kernelspec": {
   "name": "python3",
   "display_name": "Python 3.8.11 64-bit ('base': conda)"
  },
  "interpreter": {
   "hash": "d305bffd9d3fd2239913748dcf493bfc15195005772fd77ecd3617184515f967"
  }
 },
 "nbformat": 4,
 "nbformat_minor": 2
}